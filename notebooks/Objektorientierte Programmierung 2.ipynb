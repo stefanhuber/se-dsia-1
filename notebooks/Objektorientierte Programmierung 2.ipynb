{
 "cells": [
  {
   "cell_type": "code",
   "execution_count": null,
   "metadata": {},
   "outputs": [],
   "source": [
    "import tkinter as tk  \n",
    "import tkinter.messagebox as mb"
   ]
  },
  {
   "cell_type": "markdown",
   "metadata": {},
   "source": [
    "# Tkinter"
   ]
  },
  {
   "cell_type": "markdown",
   "metadata": {},
   "source": [
    "## Hauptfenster"
   ]
  },
  {
   "cell_type": "code",
   "execution_count": null,
   "metadata": {},
   "outputs": [],
   "source": [
    "window = tk.Tk()\n",
    "\n",
    "window.title(\"Erstes Tkinter Beispiel\")\n",
    "window.geometry(\"500x200\")\n",
    "window.resizable(False, False)\n",
    "\n",
    "window.mainloop()"
   ]
  },
  {
   "cell_type": "markdown",
   "metadata": {},
   "source": [
    "## Erzeugung eines Widgets"
   ]
  },
  {
   "cell_type": "code",
   "execution_count": null,
   "metadata": {},
   "outputs": [],
   "source": [
    "window = tk.Tk()\n",
    "\n",
    "button = tk.Button(window, text=\"Hello World\", fg=\"white\", bg=\"red\", padx=30, pady=10)\n",
    "button.pack()\n",
    "\n",
    "window.mainloop()"
   ]
  },
  {
   "cell_type": "markdown",
   "metadata": {},
   "source": [
    "## Konfiguration des Widgets"
   ]
  },
  {
   "cell_type": "code",
   "execution_count": null,
   "metadata": {},
   "outputs": [],
   "source": [
    "window = tk.Tk()\n",
    "\n",
    "button = tk.Button(window, text=\"Hello World\", fg=\"white\", bg=\"red\", padx=30, pady=10)\n",
    "button.pack()\n",
    "\n",
    "print(button.keys())  # ['activebackground', 'activeforeground', 'anchor', ...]\n",
    "print(button.cget(\"bg\"))  # red\n",
    "button.config(bg=\"blue\")\n",
    "\n",
    "window.mainloop()"
   ]
  },
  {
   "cell_type": "markdown",
   "metadata": {},
   "source": [
    "## Pack Geometrie Manager"
   ]
  },
  {
   "cell_type": "code",
   "execution_count": null,
   "metadata": {},
   "outputs": [],
   "source": [
    "window = tk.Tk()\n",
    "\n",
    "tk.Button(window, text=\"A\").pack(side=tk.LEFT, fill=tk.Y)\n",
    "tk.Button(window, text=\"B\").pack(side=tk.TOP, fill=tk.X)\n",
    "tk.Button(window, text=\"C\").pack(side=tk.RIGHT, fill=tk.NONE)\n",
    "tk.Button(window, text=\"D\").pack(side=tk.TOP, fill=tk.BOTH)\n",
    "\n",
    "window.mainloop()"
   ]
  },
  {
   "cell_type": "markdown",
   "metadata": {},
   "source": [
    "### Reihenfolge im Pack Geometrie Manager ist relevant"
   ]
  },
  {
   "cell_type": "code",
   "execution_count": null,
   "metadata": {},
   "outputs": [],
   "source": [
    "window = tk.Tk()\n",
    "\n",
    "tk.Button(window, text=\"C\").pack(side=tk.RIGHT, fill=tk.NONE)\n",
    "tk.Button(window, text=\"A\").pack(side=tk.LEFT, fill=tk.Y)\n",
    "tk.Button(window, text=\"B\").pack(side=tk.TOP, fill=tk.X)\n",
    "tk.Button(window, text=\"D\").pack(side=tk.TOP, fill=tk.BOTH)\n",
    "\n",
    "window.mainloop()"
   ]
  },
  {
   "cell_type": "code",
   "execution_count": null,
   "metadata": {},
   "outputs": [],
   "source": [
    "window = tk.Tk()\n",
    "\n",
    "tk.Button(window, text=\"A\").pack(side=tk.LEFT, fill=tk.Y)\n",
    "tk.Button(window, text=\"B\").pack(side=tk.TOP, fill=tk.X)\n",
    "tk.Button(window, text=\"C\").pack(side=tk.RIGHT, fill=tk.NONE)\n",
    "tk.Button(window, text=\"D\").pack(side=tk.TOP, fill=tk.BOTH)\n",
    "\n",
    "window.mainloop()"
   ]
  },
  {
   "cell_type": "code",
   "execution_count": null,
   "metadata": {},
   "outputs": [],
   "source": [
    "window = tk.Tk()\n",
    "\n",
    "tk.Button(window, text=\"A\").pack(side=tk.LEFT, fill=tk.Y)\n",
    "tk.Button(window, text=\"B\").pack(side=tk.TOP, fill=tk.X)\n",
    "tk.Button(window, text=\"D\").pack(side=tk.TOP, fill=tk.BOTH)\n",
    "tk.Button(window, text=\"C\").pack(side=tk.RIGHT, fill=tk.NONE)\n",
    "\n",
    "window.mainloop()"
   ]
  },
  {
   "cell_type": "markdown",
   "metadata": {},
   "source": [
    "## Grid Geometrie Manager"
   ]
  },
  {
   "cell_type": "code",
   "execution_count": null,
   "metadata": {},
   "outputs": [],
   "source": [
    "window = tk.Tk()\n",
    "window.resizable(False, False)\n",
    "\n",
    "red = tk.Button(window, text=\"Roter Button\", bg=\"red\", fg=\"white\")\n",
    "red.grid(column=1, row=0)\n",
    "\n",
    "green = tk.Button(window, text=\"Grüner Button\", bg=\"green\", fg=\"white\")\n",
    "green.grid(column=0, row=1)\n",
    "\n",
    "blue = tk.Button(window, text=\"Blauer Button\", bg=\"blue\", fg=\"white\")\n",
    "blue.grid(column=2, row=2)\n",
    "\n",
    "window.mainloop()    "
   ]
  },
  {
   "cell_type": "markdown",
   "metadata": {},
   "source": [
    "## Place Geometrie Manager"
   ]
  },
  {
   "cell_type": "code",
   "execution_count": null,
   "metadata": {},
   "outputs": [],
   "source": [
    "window = tk.Tk()\n",
    "window.geometry(\"200x200\")\n",
    "window.resizable(False, False)\n",
    "\n",
    "red = tk.Button(window, text=\"ROT\", bg=\"red\", fg=\"white\")\n",
    "red.place(width=50, height=50, x=75, y=75)\n",
    "\n",
    "window.mainloop()"
   ]
  },
  {
   "cell_type": "markdown",
   "metadata": {},
   "source": [
    "## 2 GUI Event Beispiele"
   ]
  },
  {
   "cell_type": "code",
   "execution_count": null,
   "metadata": {},
   "outputs": [],
   "source": [
    "window = tk.Tk()\n",
    "\n",
    "def click_handler(event):\n",
    "    if event.widget[\"bg\"] == \"red\":\n",
    "        event.widget[\"bg\"] = \"blue\"\n",
    "    else:\n",
    "        event.widget[\"bg\"] = \"red\"\n",
    "\n",
    "btn = tk.Button(window, text=\"Click Me!\", bg=\"red\", fg=\"white\")\n",
    "btn.pack(fill=tk.X)\n",
    "btn.bind(\"<Button-1>\", click_handler)\n",
    "\n",
    "window.mainloop()"
   ]
  },
  {
   "cell_type": "code",
   "execution_count": null,
   "metadata": {},
   "outputs": [],
   "source": [
    "window = tk.Tk()\n",
    "\n",
    "def key_handler(event):\n",
    "    label.config(text=\"Letzte Eingabe: \" + event.char)\n",
    "\n",
    "entry = tk.Entry(window)\n",
    "entry.pack(fill=tk.X)\n",
    "entry.bind(\"<Key>\", key_handler)\n",
    "\n",
    "label = tk.Label(window)\n",
    "label.pack(fill=tk.X)\n",
    "\n",
    "window.mainloop()"
   ]
  },
  {
   "cell_type": "markdown",
   "metadata": {},
   "source": [
    "## Verküpfung zwischen Variable und Widget"
   ]
  },
  {
   "cell_type": "code",
   "execution_count": null,
   "metadata": {
    "scrolled": true
   },
   "outputs": [],
   "source": [
    "window = tk.Tk()\n",
    "\n",
    "text = tk.StringVar()\n",
    "\n",
    "text.trace_add(\"write\", lambda *args: print(\"write text: \" + text.get()))\n",
    "text.trace_add(\"read\", lambda *args: print(\"read text: \" + text.get()))\n",
    "\n",
    "tk.Entry(window, textvariable=text).pack(side=tk.LEFT, fill=tk.X)\n",
    "\n",
    "button = tk.Button(window, text=\"Print\")\n",
    "button.pack(side=tk.RIGHT)\n",
    "button.bind(\"<Button-1>\", lambda event: text.get())  # trigger read trace\n",
    "\n",
    "window.mainloop()"
   ]
  },
  {
   "cell_type": "markdown",
   "metadata": {},
   "source": [
    "## Dialoge"
   ]
  },
  {
   "cell_type": "code",
   "execution_count": null,
   "metadata": {},
   "outputs": [],
   "source": [
    "window = tk.Tk()\n",
    "\n",
    "button = tk.Button(window, text=\"Info\")\n",
    "button.pack()\n",
    "button.bind(\"<Button-1>\", lambda event: mb.showinfo(\"Info Title\", \"Info Description\"))\n",
    "\n",
    "def q(event):\n",
    "    result = mb.askyesno(\"Programmin question\", \"Do you like programming?\")\n",
    "    print(result)\n",
    "    \n",
    "button2 = tk.Button(window, text=\"Question\")\n",
    "button2.pack()\n",
    "button2.bind(\"<Button-1>\", q)    \n",
    "\n",
    "window.mainloop()"
   ]
  },
  {
   "cell_type": "markdown",
   "metadata": {},
   "source": [
    "# Operatoren Überladen "
   ]
  },
  {
   "cell_type": "markdown",
   "metadata": {},
   "source": [
    "## Point Beispiel"
   ]
  },
  {
   "cell_type": "code",
   "execution_count": null,
   "metadata": {},
   "outputs": [],
   "source": [
    "class Point:\n",
    "    def __init__(self, x=0, y=0):\n",
    "        self.x = x\n",
    "        self.y = y\n",
    "        \n",
    "    def __add__(self, other):\n",
    "        if type(other) == Point:\n",
    "            return Point(self.x + other.x, self.y + other.y)\n",
    "        elif (type(other) in (tuple, list)) and len(other) == 2:\n",
    "            return Point(self.x + other[0], self.y + other[1]) \n",
    "\n",
    "        return Point(0, 0)\n",
    "\n",
    "    def __eq__(self, other):\n",
    "        if type(other) == Point:\n",
    "            return self.x == other.x and self.y == other.y\n",
    "        elif (type(other) in (tuple, list)) and len(other) == 2:\n",
    "            return self.x == other[0] and self.y == other[1]\n",
    "\n",
    "        return False\n",
    "    \n",
    "    def __str__(self):\n",
    "         return \"({:+.2f}, {:+.2f})\".format(self.x, self.y)\n",
    "\n",
    "p1 = Point(3, -1)\n",
    "p2 = Point(1, -4)\n",
    "p3 = (4, -5)\n",
    "\n",
    "print(p1 + p2)\n",
    "print(p2 + p3)\n",
    "print((p1 + p2) == p3)"
   ]
  },
  {
   "cell_type": "markdown",
   "metadata": {},
   "source": [
    "## Matrix Beispiel\n",
    "\n",
    "### Matrix multiplication\n",
    "\n",
    "![Matrix multiplication](https://upload.wikimedia.org/wikipedia/commons/thumb/1/18/Matrix_multiplication_qtl1.svg/1920px-Matrix_multiplication_qtl1.svg.png)\n",
    "\n",
    "![Matrix multiplication](https://upload.wikimedia.org/wikipedia/commons/thumb/e/eb/Matrix_multiplication_diagram_2.svg/1024px-Matrix_multiplication_diagram_2.svg.png)\n",
    "\n",
    "### Hadamard product (element-wise multiplication)\n",
    "\n",
    "![Hadamard product](https://upload.wikimedia.org/wikipedia/commons/thumb/0/00/Hadamard_product_qtl1.svg/1920px-Hadamard_product_qtl1.svg.png)"
   ]
  },
  {
   "cell_type": "code",
   "execution_count": 12,
   "metadata": {},
   "outputs": [
    {
     "name": "stdout",
     "output_type": "stream",
     "text": [
      "[[10, 18, 24, 28], [30, 30, 28, 24]]\n",
      "[[0, 0, 0, 0], [0, 0, 0, 0], [0, 0, 0, 0]]\n"
     ]
    }
   ],
   "source": [
    "# operator @ for hadamard product\n",
    "# operator * for matrix product\n",
    "\n",
    "class Matrix:\n",
    "    \n",
    "    def __init__(self, matrix):\n",
    "        assert type(matrix) in (list, tuple)\n",
    "        assert type(matrix[0]) in (list, tuple)\n",
    "        self.__matrix = matrix\n",
    "        self.__shape = len(matrix), len(matrix[0])\n",
    "        \n",
    "    def __matmul__(self, other):\n",
    "        assert type(other) == Matrix\n",
    "        assert self.__shape == other.__shape\n",
    "        result = Matrix.zeros(self.__shape)\n",
    "        \n",
    "        # TODO: hadamard product\n",
    "        for row in range(len(self.__matrix)):\n",
    "            for col in range(len(self.__matrix[0])):\n",
    "                result.__matrix[row][col] = self.__matrix[row][col] * other.__matrix[row][col]\n",
    "        return result.__matrix\n",
    "    \n",
    "    def __mul__(self, other):       \n",
    "        assert type(other) == Matrix\n",
    "        assert self.__shape[1] == other.__shape[0]\n",
    "        result = Matrix.zeros([self.__shape[0], other.__shape[1]])\n",
    "        \n",
    "        # TODO: matrix multiplication \n",
    "        \n",
    "        \n",
    "        return result\n",
    "        \n",
    "    def __str__(self):\n",
    "        return self.__matrix.__str__()\n",
    "    \n",
    "    def __setitem__(self, key, value):\n",
    "        assert type(key) == tuple\n",
    "        assert key[0] < self.__shape[0] and key[1] < self.__shape[1]\n",
    "        self.__matrix[key[0]][key[1]] = value\n",
    "        \n",
    "    @property\n",
    "    def shape(self):\n",
    "        return self.__shape\n",
    "        \n",
    "    @staticmethod    \n",
    "    def zeros(shape):\n",
    "        assert len(shape) == 2\n",
    "        return Matrix([[0 for col in range(shape[1])] for row in range(shape[0])])  \n",
    "        \n",
    "        \n",
    "m1 = Matrix([\n",
    "    [1, 2, 3, 4],\n",
    "    [5, 6, 7, 8]\n",
    "])\n",
    "m2 = Matrix([\n",
    "    [10, 9, 8, 7],\n",
    "    [6, 5, 4, 3]\n",
    "])\n",
    "m3 = Matrix([\n",
    "    [8, 9],\n",
    "    [6, 7],\n",
    "    [5, 4]\n",
    "])\n",
    "\n",
    "print(m1 @ m2)\n",
    "print(m3 * m1)    "
   ]
  },
  {
   "cell_type": "code",
   "execution_count": null,
   "metadata": {},
   "outputs": [],
   "source": []
  }
 ],
 "metadata": {
  "kernelspec": {
   "display_name": "Python 3",
   "language": "python",
   "name": "python3"
  },
  "language_info": {
   "codemirror_mode": {
    "name": "ipython",
    "version": 3
   },
   "file_extension": ".py",
   "mimetype": "text/x-python",
   "name": "python",
   "nbconvert_exporter": "python",
   "pygments_lexer": "ipython3",
   "version": "3.8.3"
  }
 },
 "nbformat": 4,
 "nbformat_minor": 4
}
