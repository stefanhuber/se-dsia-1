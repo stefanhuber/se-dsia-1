{
 "cells": [
  {
   "cell_type": "markdown",
   "metadata": {},
   "source": [
    "# Einfache Funktion"
   ]
  },
  {
   "cell_type": "code",
   "execution_count": 1,
   "metadata": {},
   "outputs": [
    {
     "name": "stdout",
     "output_type": "stream",
     "text": [
      "hello world!\n",
      "hello students!\n"
     ]
    }
   ],
   "source": [
    "def say_hello(name=\"world\"):\n",
    "    print(\"hello \" + name + \"!\")\n",
    "\n",
    "say_hello()          \n",
    "say_hello(\"students\")"
   ]
  },
  {
   "cell_type": "markdown",
   "metadata": {},
   "source": [
    "# Einfache Funktion mit lokaler Variable und Rückgabewert"
   ]
  },
  {
   "cell_type": "code",
   "execution_count": 2,
   "metadata": {},
   "outputs": [
    {
     "name": "stdout",
     "output_type": "stream",
     "text": [
      "hello students!\n"
     ]
    }
   ],
   "source": [
    "def create_hello(name=\"world\"):\n",
    "    hello = \"hello \" + name + \"!\"\n",
    "    return hello\n",
    "\n",
    "result = create_hello(\"students\")\n",
    "print(result) "
   ]
  },
  {
   "cell_type": "markdown",
   "metadata": {},
   "source": [
    "# Parameterübergabe über Schlüsselwörter"
   ]
  },
  {
   "cell_type": "code",
   "execution_count": 3,
   "metadata": {},
   "outputs": [
    {
     "name": "stdout",
     "output_type": "stream",
     "text": [
      "hello world!\n",
      "hello world!!!\n",
      "good evening students!\n"
     ]
    }
   ],
   "source": [
    "def say_hello(greeting=\"hello\", name=\"world\", end=\"!\"):\n",
    "    print(greeting + \" \" + name + end)\n",
    "\n",
    "say_hello()                         \n",
    "say_hello(end=\"!!!\")                \n",
    "say_hello(name=\"students\", greeting=\"good evening\")"
   ]
  },
  {
   "cell_type": "markdown",
   "metadata": {},
   "source": [
    "# Geltungsbereich (Scope) von Variablen"
   ]
  },
  {
   "cell_type": "markdown",
   "metadata": {},
   "source": [
    "## Lesender Zugriff auf globale Variable"
   ]
  },
  {
   "cell_type": "code",
   "execution_count": 4,
   "metadata": {},
   "outputs": [
    {
     "name": "stdout",
     "output_type": "stream",
     "text": [
      "20\n",
      "10\n"
     ]
    }
   ],
   "source": [
    "a = 10\n",
    "def add():\n",
    "    b = a + 10\n",
    "    print(b)\n",
    "\n",
    "add()\n",
    "print(a) "
   ]
  },
  {
   "cell_type": "markdown",
   "metadata": {},
   "source": [
    "## Lokale und globale Variable mit gleichem Bezeichner"
   ]
  },
  {
   "cell_type": "code",
   "execution_count": 5,
   "metadata": {},
   "outputs": [
    {
     "name": "stdout",
     "output_type": "stream",
     "text": [
      "30\n",
      "10\n"
     ]
    }
   ],
   "source": [
    "a = 10\n",
    "def add():\n",
    "    a = 20\n",
    "    b = a + 10\n",
    "    print(b)\n",
    "\n",
    "add()\n",
    "print(a)\n"
   ]
  },
  {
   "cell_type": "markdown",
   "metadata": {},
   "source": [
    "## Beispiel für einen UnboundLocalError"
   ]
  },
  {
   "cell_type": "code",
   "execution_count": 6,
   "metadata": {},
   "outputs": [
    {
     "ename": "UnboundLocalError",
     "evalue": "local variable 'a' referenced before assignment",
     "output_type": "error",
     "traceback": [
      "\u001b[1;31m---------------------------------------------------------------------------\u001b[0m",
      "\u001b[1;31mUnboundLocalError\u001b[0m                         Traceback (most recent call last)",
      "\u001b[1;32m<ipython-input-6-8bc9d36a24d0>\u001b[0m in \u001b[0;36m<module>\u001b[1;34m\u001b[0m\n\u001b[0;32m      5\u001b[0m     \u001b[0mprint\u001b[0m\u001b[1;33m(\u001b[0m\u001b[0mb\u001b[0m\u001b[1;33m)\u001b[0m\u001b[1;33m\u001b[0m\u001b[1;33m\u001b[0m\u001b[0m\n\u001b[0;32m      6\u001b[0m \u001b[1;33m\u001b[0m\u001b[0m\n\u001b[1;32m----> 7\u001b[1;33m \u001b[0madd\u001b[0m\u001b[1;33m(\u001b[0m\u001b[1;33m)\u001b[0m\u001b[1;33m\u001b[0m\u001b[1;33m\u001b[0m\u001b[0m\n\u001b[0m",
      "\u001b[1;32m<ipython-input-6-8bc9d36a24d0>\u001b[0m in \u001b[0;36madd\u001b[1;34m()\u001b[0m\n\u001b[0;32m      1\u001b[0m \u001b[0ma\u001b[0m \u001b[1;33m=\u001b[0m \u001b[1;36m10\u001b[0m\u001b[1;33m\u001b[0m\u001b[1;33m\u001b[0m\u001b[0m\n\u001b[0;32m      2\u001b[0m \u001b[1;32mdef\u001b[0m \u001b[0madd\u001b[0m\u001b[1;33m(\u001b[0m\u001b[1;33m)\u001b[0m\u001b[1;33m:\u001b[0m\u001b[1;33m\u001b[0m\u001b[1;33m\u001b[0m\u001b[0m\n\u001b[1;32m----> 3\u001b[1;33m     \u001b[0ma\u001b[0m \u001b[1;33m=\u001b[0m \u001b[0ma\u001b[0m \u001b[1;33m+\u001b[0m \u001b[1;36m20\u001b[0m\u001b[1;33m\u001b[0m\u001b[1;33m\u001b[0m\u001b[0m\n\u001b[0m\u001b[0;32m      4\u001b[0m     \u001b[0mb\u001b[0m \u001b[1;33m=\u001b[0m \u001b[0ma\u001b[0m \u001b[1;33m+\u001b[0m \u001b[1;36m10\u001b[0m\u001b[1;33m\u001b[0m\u001b[1;33m\u001b[0m\u001b[0m\n\u001b[0;32m      5\u001b[0m     \u001b[0mprint\u001b[0m\u001b[1;33m(\u001b[0m\u001b[0mb\u001b[0m\u001b[1;33m)\u001b[0m\u001b[1;33m\u001b[0m\u001b[1;33m\u001b[0m\u001b[0m\n",
      "\u001b[1;31mUnboundLocalError\u001b[0m: local variable 'a' referenced before assignment"
     ]
    }
   ],
   "source": [
    "a = 10\n",
    "def add():\n",
    "    a = a + 20\n",
    "    b = a + 10\n",
    "    print(b)\n",
    "\n",
    "add()    "
   ]
  },
  {
   "cell_type": "markdown",
   "metadata": {},
   "source": [
    "## Globale Variable im inneren Kontext definieren"
   ]
  },
  {
   "cell_type": "code",
   "execution_count": 7,
   "metadata": {},
   "outputs": [
    {
     "name": "stdout",
     "output_type": "stream",
     "text": [
      "20\n",
      "10\n"
     ]
    }
   ],
   "source": [
    "def add():\n",
    "    global a\n",
    "    a = 10\n",
    "    b = a + 10\n",
    "    print(b)\n",
    "\n",
    "add()\n",
    "print(a)"
   ]
  },
  {
   "cell_type": "markdown",
   "metadata": {},
   "source": [
    "## nonlocal Kontext für die Variable der inneren Funktion"
   ]
  },
  {
   "cell_type": "code",
   "execution_count": 8,
   "metadata": {},
   "outputs": [
    {
     "name": "stdout",
     "output_type": "stream",
     "text": [
      "Innerer Kontext!\n",
      "Äußerer Kontext!\n"
     ]
    }
   ],
   "source": [
    "def outside():\n",
    "    msg = \"Äußerer Kontext!\"\n",
    "    def inside():\n",
    "        msg = \"Innerer Kontext!\"\n",
    "        print(msg)\n",
    "    inside()\n",
    "    print(msg)\n",
    "\n",
    "outside()"
   ]
  },
  {
   "cell_type": "code",
   "execution_count": 9,
   "metadata": {},
   "outputs": [
    {
     "name": "stdout",
     "output_type": "stream",
     "text": [
      "Innerer Kontext!\n",
      "Innerer Kontext!\n"
     ]
    }
   ],
   "source": [
    "def outside():\n",
    "    msg = \"Äußerer Kontext!\"\n",
    "    def inside():\n",
    "        nonlocal msg\n",
    "        msg = \"Innerer Kontext!\"\n",
    "        print(msg)\n",
    "    inside()\n",
    "    print(msg)\n",
    "\n",
    "outside()"
   ]
  },
  {
   "cell_type": "markdown",
   "metadata": {},
   "source": [
    "## Beispiel für einen SyntaxError für die Verwendung von nonlocal"
   ]
  },
  {
   "cell_type": "code",
   "execution_count": 10,
   "metadata": {},
   "outputs": [
    {
     "ename": "SyntaxError",
     "evalue": "no binding for nonlocal 'a' found (<ipython-input-10-7b0c1dc71227>, line 2)",
     "output_type": "error",
     "traceback": [
      "\u001b[1;36m  File \u001b[1;32m\"<ipython-input-10-7b0c1dc71227>\"\u001b[1;36m, line \u001b[1;32m2\u001b[0m\n\u001b[1;33m    nonlocal a\u001b[0m\n\u001b[1;37m    ^\u001b[0m\n\u001b[1;31mSyntaxError\u001b[0m\u001b[1;31m:\u001b[0m no binding for nonlocal 'a' found\n"
     ]
    }
   ],
   "source": [
    "def add():\n",
    "    nonlocal a\n",
    "    a = 10\n",
    "    b = a + 10\n",
    "    print(b)\n",
    "\n",
    "add() \n",
    "print(a)"
   ]
  },
  {
   "cell_type": "markdown",
   "metadata": {},
   "source": [
    "## nonlocal Kontext für die Variable der innersten Funktion"
   ]
  },
  {
   "cell_type": "code",
   "execution_count": 11,
   "metadata": {},
   "outputs": [
    {
     "name": "stdout",
     "output_type": "stream",
     "text": [
      "Innerster Kontext!\n",
      "Innerster Kontext!\n",
      "Äußerer Kontext!\n"
     ]
    }
   ],
   "source": [
    "def outside():\n",
    "    msg = \"Äußerer Kontext!\"\n",
    "    \n",
    "    def inside():\n",
    "        msg = \"Innerer Kontext!\"\n",
    "        \n",
    "        def inside_inside():\n",
    "            nonlocal msg\n",
    "            msg = \"Innerster Kontext!\"\n",
    "            print(msg)\n",
    "            \n",
    "        inside_inside()\n",
    "        print(msg)\n",
    "        \n",
    "    inside()\n",
    "    print(msg)\n",
    "\n",
    "outside()"
   ]
  },
  {
   "cell_type": "markdown",
   "metadata": {},
   "source": [
    "# FOR Schleife"
   ]
  },
  {
   "cell_type": "markdown",
   "metadata": {},
   "source": [
    "## Erstes Beispiel"
   ]
  },
  {
   "cell_type": "code",
   "execution_count": 12,
   "metadata": {},
   "outputs": [
    {
     "name": "stdout",
     "output_type": "stream",
     "text": [
      "a\n",
      "b\n",
      "c\n",
      "d\n",
      "a\n",
      "b\n",
      "c\n",
      "d\n"
     ]
    }
   ],
   "source": [
    "for char in \"abcd\":\n",
    "    print(char)\n",
    "\n",
    "for item in ('a', 'b', 'c', 'd'):\n",
    "    print(item)"
   ]
  },
  {
   "cell_type": "markdown",
   "metadata": {},
   "source": [
    "## Range Funktion"
   ]
  },
  {
   "cell_type": "code",
   "execution_count": 13,
   "metadata": {},
   "outputs": [
    {
     "name": "stdout",
     "output_type": "stream",
     "text": [
      "10 12 14 16 18 20 \n"
     ]
    }
   ],
   "source": [
    "numbers = \"\"\n",
    "for i in range(10, 21, 2):\n",
    "    numbers += str(i) + \" \"\n",
    "print(numbers)"
   ]
  },
  {
   "cell_type": "markdown",
   "metadata": {},
   "source": [
    "# Zusammengesetzte Datenstrukturen"
   ]
  },
  {
   "cell_type": "markdown",
   "metadata": {},
   "source": [
    "## Listen"
   ]
  },
  {
   "cell_type": "code",
   "execution_count": 14,
   "metadata": {},
   "outputs": [
    {
     "name": "stdout",
     "output_type": "stream",
     "text": [
      "b\n",
      "2\n",
      "4\n"
     ]
    }
   ],
   "source": [
    "my_list = ['a', 'b', 3, ['sub', 'list']]\n",
    "\n",
    "print(my_list[1])\n",
    "\n",
    "my_list[1] = 2\n",
    "\n",
    "print(my_list[1]) \n",
    "\n",
    "print(len(my_list))"
   ]
  },
  {
   "cell_type": "markdown",
   "metadata": {},
   "source": [
    "## Listen Operationen"
   ]
  },
  {
   "cell_type": "code",
   "execution_count": 15,
   "metadata": {},
   "outputs": [
    {
     "name": "stdout",
     "output_type": "stream",
     "text": [
      "['a', 'b']\n",
      "['a', 'b', 'x']\n",
      "['x', 'b', 'a']\n",
      "['x', 'y', 'b', 'a']\n",
      "['x', 'y', 'b']\n",
      "[]\n",
      "['a', 'b', 'c', 'd']\n",
      "['a', 'b', 'a', 'b']\n"
     ]
    }
   ],
   "source": [
    "data = ['a', 'b', 'c']\n",
    "\n",
    "data.remove('c')\n",
    "print(data)\n",
    "\n",
    "data.append('x')\n",
    "print(data)\n",
    "\n",
    "data.reverse()\n",
    "print(data)\n",
    "\n",
    "data.insert(1, 'y')\n",
    "print(data)\n",
    "\n",
    "data.pop(-1)        \n",
    "print(data)\n",
    "\n",
    "data.clear()\n",
    "print(data)\n",
    "\n",
    "data1 = ['a', 'b']\n",
    "data2 = ['c', 'd']\n",
    "\n",
    "print(data1 + data2)\n",
    "print(data1 * 2)    "
   ]
  },
  {
   "cell_type": "markdown",
   "metadata": {},
   "source": [
    "## Slicing"
   ]
  },
  {
   "cell_type": "code",
   "execution_count": 16,
   "metadata": {},
   "outputs": [
    {
     "name": "stdout",
     "output_type": "stream",
     "text": [
      "['a', 'b']\n",
      "['a', 'b']\n",
      "['b', 'c', 'd', 'e']\n",
      "['b', 'c', 'd', 'e']\n",
      "['b', 'c', 'd', 'e']\n",
      "['a', 'c', 'e']\n",
      "e\n"
     ]
    }
   ],
   "source": [
    "data = ['a', 'b', 'c', 'd', 'e']\n",
    "\n",
    "# Alle Elemente bis exklusive Index 2\n",
    "print(data[:2])\n",
    "print(data[0:2])\n",
    "\n",
    "# Alle Elemente von inklusive Index 1 bis zum Ende\n",
    "print(data[1:5])\n",
    "print(data[1:])\n",
    "print(data[1:999999]) # führt zu keinem Fehler\n",
    "\n",
    "# jedes 2. Element\n",
    "print(data[::2])\n",
    "\n",
    "# Das letzte Element\n",
    "print(data[-1])"
   ]
  },
  {
   "cell_type": "markdown",
   "metadata": {},
   "source": [
    "## Weitere Slicing Operationen"
   ]
  },
  {
   "cell_type": "code",
   "execution_count": 17,
   "metadata": {},
   "outputs": [
    {
     "name": "stdout",
     "output_type": "stream",
     "text": [
      "['a', 'b']\n",
      "['a', 'b', 'x']\n",
      "['x', 'b', 'a']\n",
      "[]\n"
     ]
    }
   ],
   "source": [
    "data = ['a', 'b', 'c']\n",
    "\n",
    "del data[2]\n",
    "print(data)\n",
    "\n",
    "data[len(data):] = ['x']\n",
    "print(data)\n",
    "\n",
    "print(data[::-1])\n",
    "\n",
    "del data[:]\n",
    "print(data)"
   ]
  },
  {
   "cell_type": "markdown",
   "metadata": {},
   "source": [
    "## Grundlegende Datenstrukturen mit Listen"
   ]
  },
  {
   "cell_type": "markdown",
   "metadata": {},
   "source": [
    "### Stack (LIFO)"
   ]
  },
  {
   "cell_type": "code",
   "execution_count": 18,
   "metadata": {},
   "outputs": [
    {
     "name": "stdout",
     "output_type": "stream",
     "text": [
      "['a', 'b']\n",
      "['a']\n"
     ]
    }
   ],
   "source": [
    "data = []\n",
    "data.append('a')\n",
    "data.append('b')\n",
    "\n",
    "print(data)\n",
    "\n",
    "data.pop()\n",
    "print(data)  "
   ]
  },
  {
   "cell_type": "markdown",
   "metadata": {},
   "source": [
    "### Queue (FIFO)"
   ]
  },
  {
   "cell_type": "code",
   "execution_count": 19,
   "metadata": {},
   "outputs": [
    {
     "name": "stdout",
     "output_type": "stream",
     "text": [
      "['b', 'a']\n",
      "['b']\n"
     ]
    }
   ],
   "source": [
    "data = []\n",
    "data.insert(0, 'a')\n",
    "data.insert(0, 'b')\n",
    "\n",
    "print(data)\n",
    "\n",
    "data.pop()\n",
    "print(data)"
   ]
  },
  {
   "cell_type": "markdown",
   "metadata": {},
   "source": [
    "## Iteration durch Listen"
   ]
  },
  {
   "cell_type": "code",
   "execution_count": 20,
   "metadata": {},
   "outputs": [
    {
     "name": "stdout",
     "output_type": "stream",
     "text": [
      "a\n",
      "b\n",
      "c\n",
      "0: a\n",
      "1: b\n",
      "2: c\n"
     ]
    }
   ],
   "source": [
    "for my_item in ['a', 'b', 'c']:\n",
    "    print(my_item)\n",
    "\n",
    "for idx, item in enumerate(['a', 'b', 'c']):\n",
    "    print(str(idx) + \": \" + item)"
   ]
  },
  {
   "cell_type": "markdown",
   "metadata": {},
   "source": [
    "## Mehrdimensionale Listen"
   ]
  },
  {
   "cell_type": "code",
   "execution_count": 21,
   "metadata": {},
   "outputs": [
    {
     "name": "stdout",
     "output_type": "stream",
     "text": [
      "    A   B   C\n",
      "  +---+---+---+\n",
      "1 |   | X | O |\n",
      "  +---+---+---+\n",
      "2 | X | O |   |\n",
      "  +---+---+---+\n",
      "3 |   | X |   |\n",
      "  +---+---+---+\n",
      "\n"
     ]
    }
   ],
   "source": [
    "data = [\n",
    "    [' ', 'X', 'O'],\n",
    "    ['X', 'O', ' '],\n",
    "    [' ', 'X', ' ']\n",
    "]\n",
    "\n",
    "game_board = \"    A   B   C\\n\"\n",
    "for row in range(3):\n",
    "    game_board += \"  +---+---+---+\\n\"\n",
    "    game_board += str(row+1)\n",
    "    for col in range(3):\n",
    "        game_board += \" | \" + data[row][col]\n",
    "    game_board += \" |\\n\"\n",
    "game_board += \"  +---+---+---+\\n\"\n",
    "\n",
    "print(game_board)"
   ]
  },
  {
   "cell_type": "markdown",
   "metadata": {},
   "source": [
    "## Tuple"
   ]
  },
  {
   "cell_type": "code",
   "execution_count": 22,
   "metadata": {},
   "outputs": [
    {
     "name": "stdout",
     "output_type": "stream",
     "text": [
      "b b\n",
      "3 3\n"
     ]
    }
   ],
   "source": [
    "my_tuple = ('a', 'b', 1)\n",
    "same_tuple = 'a', 'b', 1\n",
    "print(my_tuple[1], same_tuple[1])\n",
    "print(len(my_tuple), len(same_tuple)) "
   ]
  },
  {
   "cell_type": "markdown",
   "metadata": {},
   "source": [
    "### Tuple sind immutable "
   ]
  },
  {
   "cell_type": "code",
   "execution_count": 23,
   "metadata": {},
   "outputs": [
    {
     "ename": "TypeError",
     "evalue": "'tuple' object does not support item assignment",
     "output_type": "error",
     "traceback": [
      "\u001b[1;31m---------------------------------------------------------------------------\u001b[0m",
      "\u001b[1;31mTypeError\u001b[0m                                 Traceback (most recent call last)",
      "\u001b[1;32m<ipython-input-23-c57491fe0548>\u001b[0m in \u001b[0;36m<module>\u001b[1;34m\u001b[0m\n\u001b[0;32m      1\u001b[0m \u001b[0mtuple\u001b[0m \u001b[1;33m=\u001b[0m \u001b[1;33m(\u001b[0m\u001b[1;34m'a'\u001b[0m\u001b[1;33m,\u001b[0m \u001b[1;34m'b'\u001b[0m\u001b[1;33m,\u001b[0m \u001b[1;34m'c'\u001b[0m\u001b[1;33m)\u001b[0m\u001b[1;33m\u001b[0m\u001b[1;33m\u001b[0m\u001b[0m\n\u001b[1;32m----> 2\u001b[1;33m \u001b[0mtuple\u001b[0m\u001b[1;33m[\u001b[0m\u001b[1;36m0\u001b[0m\u001b[1;33m]\u001b[0m \u001b[1;33m=\u001b[0m \u001b[1;34m'e'\u001b[0m\u001b[1;33m\u001b[0m\u001b[1;33m\u001b[0m\u001b[0m\n\u001b[0m",
      "\u001b[1;31mTypeError\u001b[0m: 'tuple' object does not support item assignment"
     ]
    }
   ],
   "source": [
    "tuple = ('a', 'b', 'c')\n",
    "tuple[0] = 'e'"
   ]
  },
  {
   "cell_type": "markdown",
   "metadata": {},
   "source": [
    "### Tuple können mutable Datenstrukturen enthalten"
   ]
  },
  {
   "cell_type": "code",
   "execution_count": 24,
   "metadata": {},
   "outputs": [],
   "source": [
    "tuple = ('blub', ['b', 'a'])\n",
    "tuple[1][0] = 'c'"
   ]
  },
  {
   "cell_type": "markdown",
   "metadata": {},
   "source": [
    "## Sets"
   ]
  },
  {
   "cell_type": "code",
   "execution_count": 25,
   "metadata": {},
   "outputs": [
    {
     "name": "stdout",
     "output_type": "stream",
     "text": [
      "{1, 2, 3, 4, 5, 6}\n",
      "{3, 4}\n",
      "{1, 2}\n",
      "{5, 6}\n",
      "{1, 2, 5, 6}\n"
     ]
    }
   ],
   "source": [
    "A = {1, 2, 3, 4}\n",
    "B = {3, 4, 5, 6}\n",
    "print(A | B)\n",
    "print(A & B)\n",
    "print(A - B)\n",
    "print(B - A)\n",
    "print(A ^ B) "
   ]
  },
  {
   "cell_type": "markdown",
   "metadata": {},
   "source": [
    "## Dictionaries"
   ]
  },
  {
   "cell_type": "code",
   "execution_count": 26,
   "metadata": {},
   "outputs": [
    {
     "name": "stdout",
     "output_type": "stream",
     "text": [
      "123\n",
      "a\n",
      "changed\n"
     ]
    }
   ],
   "source": [
    "my_dict = { 'one' : 123 , 'two' : '2', 3 : ['a', 'b'] }\n",
    "print(my_dict['one'])\n",
    "print(my_dict[3][0])\n",
    "my_dict['one'] = 'changed'\n",
    "print(my_dict['one']) "
   ]
  },
  {
   "cell_type": "code",
   "execution_count": 27,
   "metadata": {},
   "outputs": [
    {
     "name": "stdout",
     "output_type": "stream",
     "text": [
      "3\n",
      "4\n"
     ]
    }
   ],
   "source": [
    "print(len(my_dict))\n",
    "my_dict['new'] = 'hello'\n",
    "print(len(my_dict))"
   ]
  },
  {
   "cell_type": "markdown",
   "metadata": {},
   "source": [
    "## Iteration durch Dictionaries"
   ]
  },
  {
   "cell_type": "code",
   "execution_count": 28,
   "metadata": {
    "scrolled": true
   },
   "outputs": [
    {
     "name": "stdout",
     "output_type": "stream",
     "text": [
      "Name: Peter, Alter: 25\n",
      "Name: Hilde, Alter: 31\n",
      "Name: Bruno, Alter: 45\n",
      "Name: Peter, Alter: 25\n",
      "Name: Hilde, Alter: 31\n",
      "Name: Bruno, Alter: 45\n"
     ]
    }
   ],
   "source": [
    "names = {'Peter': 25, 'Hilde': 31, 'Bruno': 45}\n",
    "\n",
    "for key in names:\n",
    "    print(\"Name: \" + key + \", Alter: \" + str(names[key]))\n",
    "\n",
    "for key, value in names.items():\n",
    "    print(\"Name: \" + key + \", Alter: \" + str(value))"
   ]
  },
  {
   "cell_type": "markdown",
   "metadata": {},
   "source": [
    "## Funktionen mit variablen Argumenten"
   ]
  },
  {
   "attachments": {},
   "cell_type": "markdown",
   "metadata": {},
   "source": [
    "### Unbenannte Argumente über *"
   ]
  },
  {
   "cell_type": "code",
   "execution_count": 29,
   "metadata": {},
   "outputs": [
    {
     "name": "stdout",
     "output_type": "stream",
     "text": [
      "15 30 0\n"
     ]
    }
   ],
   "source": [
    "def sum(*myparams):\n",
    "    sum = 0\n",
    "    for arg in myparams:\n",
    "        sum += arg\n",
    "\n",
    "    return sum\n",
    "\n",
    "sum1 = sum(1, 2, 3, 4, 5)\n",
    "sum2 = sum(10, 20)\n",
    "sum3 = sum()\n",
    "\n",
    "print(sum1, sum2, sum3)  "
   ]
  },
  {
   "attachments": {},
   "cell_type": "markdown",
   "metadata": {},
   "source": [
    "## Keyword Argumente über **"
   ]
  },
  {
   "cell_type": "code",
   "execution_count": 30,
   "metadata": {},
   "outputs": [
    {
     "name": "stdout",
     "output_type": "stream",
     "text": [
      "Name: Peter, Alter: 25\n",
      "Name: Hilde, Alter: 31\n",
      "Name: Bruno, Alter: 45\n"
     ]
    }
   ],
   "source": [
    "def format_output(**names):\n",
    "    for name, age in names.items():\n",
    "        print(\"Name: \" + name + \", Alter: \" + str(age))\n",
    "\n",
    "format_output(Peter=25, Hilde=31, Bruno=45)"
   ]
  },
  {
   "attachments": {},
   "cell_type": "markdown",
   "metadata": {},
   "source": [
    "# Rekursionen"
   ]
  },
  {
   "cell_type": "markdown",
   "metadata": {},
   "source": [
    "## Beispiel Fakultät: rekursiv"
   ]
  },
  {
   "cell_type": "code",
   "execution_count": 31,
   "metadata": {},
   "outputs": [
    {
     "name": "stdout",
     "output_type": "stream",
     "text": [
      "120\n"
     ]
    }
   ],
   "source": [
    "def recursive_factorial(n):\n",
    "    if n <= 1:\n",
    "        return 1\n",
    "    else:\n",
    "        return n * recursive_factorial(n - 1)\n",
    "\n",
    "print(recursive_factorial(5)) "
   ]
  },
  {
   "cell_type": "markdown",
   "metadata": {},
   "source": [
    "## Beispiel Fakultät: iterativ"
   ]
  },
  {
   "cell_type": "code",
   "execution_count": 32,
   "metadata": {},
   "outputs": [
    {
     "name": "stdout",
     "output_type": "stream",
     "text": [
      "120\n"
     ]
    }
   ],
   "source": [
    "def iterative_factorial(n):\n",
    "    result = 1\n",
    "    while n > 1:\n",
    "        result *= n\n",
    "        n -= 1\n",
    "\n",
    "    return result\n",
    "\n",
    "print(iterative_factorial(5)) "
   ]
  },
  {
   "cell_type": "markdown",
   "metadata": {},
   "source": [
    "## Timing"
   ]
  },
  {
   "cell_type": "code",
   "execution_count": 33,
   "metadata": {},
   "outputs": [
    {
     "name": "stdout",
     "output_type": "stream",
     "text": [
      "0.5659985542297363\n",
      "0.6659996509552002\n"
     ]
    }
   ],
   "source": [
    "import time\n",
    "\n",
    "start = time.time()\n",
    "for i in range(5000000):\n",
    "    even = i % 2 == 0\n",
    "end = time.time()\n",
    "print(end-start)\n",
    "\n",
    "start = time.time()\n",
    "for i in range(5000000):\n",
    "    even = not (i&1)\n",
    "end = time.time()\n",
    "print(end - start)"
   ]
  },
  {
   "cell_type": "markdown",
   "metadata": {},
   "source": [
    "# Comprehensions"
   ]
  },
  {
   "cell_type": "code",
   "execution_count": 34,
   "metadata": {},
   "outputs": [
    {
     "name": "stdout",
     "output_type": "stream",
     "text": [
      "[4, 16, 36, 64]\n"
     ]
    }
   ],
   "source": [
    "some_list = [2, 3, 4, 5, 6, 7, 8]\n",
    "\n",
    "# Erzeuge neue Liste, welche alle geraden Zahlen aus some_list quadriert\n",
    "new_list = [x ** 2 for x in range(10, 21) if (x ** 2) % 2 == 0]\n",
    "print(new_list)  "
   ]
  },
  {
   "cell_type": "markdown",
   "metadata": {},
   "source": [
    "## Prozedural vs Comprehension"
   ]
  },
  {
   "cell_type": "code",
   "execution_count": 35,
   "metadata": {},
   "outputs": [
    {
     "name": "stdout",
     "output_type": "stream",
     "text": [
      "[1, 4, 9, 16, 25]\n",
      "[1, 4, 9, 16, 25]\n"
     ]
    }
   ],
   "source": [
    "list = [1, 2, 3, 4, 5]\n",
    "\n",
    "squared1 = []\n",
    "for i in list:\n",
    "    squared1.append(i ** 2)\n",
    "\n",
    "squared2 = [i ** 2 for i in list]\n",
    "\n",
    "print(squared1)\n",
    "print(squared2)"
   ]
  },
  {
   "cell_type": "code",
   "execution_count": 36,
   "metadata": {},
   "outputs": [
    {
     "name": "stdout",
     "output_type": "stream",
     "text": [
      "[2, 4, 6]\n",
      "[2, 4, 6]\n"
     ]
    }
   ],
   "source": [
    "data = [1, 2, 3, 4, 5, 6]\n",
    "\n",
    "even1 = []\n",
    "for i in data:\n",
    "    if i % 2 == 0:\n",
    "        even1.append(i)\n",
    "\n",
    "even2 = [i for i in data if i % 2 == 0]\n",
    "\n",
    "print(even1)\n",
    "print(even2)"
   ]
  },
  {
   "cell_type": "markdown",
   "metadata": {},
   "source": [
    "## Comprehension für Set"
   ]
  },
  {
   "cell_type": "code",
   "execution_count": 37,
   "metadata": {},
   "outputs": [
    {
     "name": "stdout",
     "output_type": "stream",
     "text": [
      "{'p', 'e', 'g', 'l', 'n', 'r', 'a', 'm', 's', 'i', 't'}\n"
     ]
    }
   ],
   "source": [
    "text = \"a sample string\"\n",
    "letters = {letter for letter in text if letter != ' '}\n",
    "print(letters) "
   ]
  },
  {
   "cell_type": "code",
   "execution_count": 38,
   "metadata": {},
   "outputs": [
    {
     "name": "stdout",
     "output_type": "stream",
     "text": [
      "{'a': 2, 'n': 1, 'e': 2, 'x': 1, 'm': 1, 'p': 1, 'l': 1}\n"
     ]
    }
   ],
   "source": [
    "text = \"an example\"\n",
    "letters = {i: text.count(i) for i in text if i != ' '}\n",
    "print(letters) "
   ]
  },
  {
   "cell_type": "markdown",
   "metadata": {},
   "source": [
    "## Comprehension für Dictionaries"
   ]
  },
  {
   "cell_type": "markdown",
   "metadata": {},
   "source": [
    "# Generatoren"
   ]
  },
  {
   "cell_type": "code",
   "execution_count": 39,
   "metadata": {},
   "outputs": [
    {
     "name": "stdout",
     "output_type": "stream",
     "text": [
      "1. generation\n",
      "2. generation\n",
      "3. generation\n",
      "1. generation\n",
      "2. generation\n",
      "3. generation\n",
      "1. generation\n",
      "2. generation\n",
      "3. generation\n"
     ]
    }
   ],
   "source": [
    "def generator1():\n",
    "    yield \"1. generation\"\n",
    "    yield \"2. generation\"\n",
    "    yield \"3. generation\"\n",
    "\n",
    "def generator2():\n",
    "    for i in (1, 2, 3):\n",
    "        yield str(i) + \". generation\"\n",
    "\n",
    "generator3 = (str(i) + \". generation\" for i in (1, 2, 3))\n",
    "\n",
    "for g in generator1():\n",
    "    print(g)\n",
    "\n",
    "for g in generator2():\n",
    "    print(g)\n",
    "\n",
    "for g in generator3:\n",
    "    print(g)"
   ]
  },
  {
   "cell_type": "markdown",
   "metadata": {},
   "source": [
    "# Funktionale Konstrukte"
   ]
  },
  {
   "cell_type": "markdown",
   "metadata": {},
   "source": [
    "## Lambdas"
   ]
  },
  {
   "cell_type": "code",
   "execution_count": 40,
   "metadata": {},
   "outputs": [
    {
     "name": "stdout",
     "output_type": "stream",
     "text": [
      "7\n",
      "7\n",
      "7\n",
      "7\n"
     ]
    }
   ],
   "source": [
    "sum = lambda a, b: a + b\n",
    "\n",
    "print(sum(2, 5))\n",
    "print(sum(4, 3))  \n",
    "\n",
    "\n",
    "def sum(a, b):\n",
    "    return a + b\n",
    "\n",
    "print(sum(2, 5))\n",
    "print(sum(4, 3))  "
   ]
  },
  {
   "cell_type": "markdown",
   "metadata": {},
   "source": [
    "## Map, Filter, Reduce"
   ]
  },
  {
   "cell_type": "code",
   "execution_count": 41,
   "metadata": {},
   "outputs": [
    {
     "ename": "TypeError",
     "evalue": "'list' object is not callable",
     "output_type": "error",
     "traceback": [
      "\u001b[1;31m---------------------------------------------------------------------------\u001b[0m",
      "\u001b[1;31mTypeError\u001b[0m                                 Traceback (most recent call last)",
      "\u001b[1;32m<ipython-input-41-9cdd6f19d7a1>\u001b[0m in \u001b[0;36m<module>\u001b[1;34m\u001b[0m\n\u001b[0;32m      4\u001b[0m \u001b[1;33m\u001b[0m\u001b[0m\n\u001b[0;32m      5\u001b[0m \u001b[0msquared\u001b[0m \u001b[1;33m=\u001b[0m \u001b[0mmap\u001b[0m\u001b[1;33m(\u001b[0m\u001b[1;32mlambda\u001b[0m \u001b[0mn\u001b[0m\u001b[1;33m:\u001b[0m \u001b[0mn\u001b[0m\u001b[1;33m*\u001b[0m\u001b[0mn\u001b[0m\u001b[1;33m,\u001b[0m \u001b[0mdata\u001b[0m\u001b[1;33m)\u001b[0m\u001b[1;33m\u001b[0m\u001b[1;33m\u001b[0m\u001b[0m\n\u001b[1;32m----> 6\u001b[1;33m \u001b[0mprint\u001b[0m\u001b[1;33m(\u001b[0m\u001b[0mlist\u001b[0m\u001b[1;33m(\u001b[0m\u001b[0msquared\u001b[0m\u001b[1;33m)\u001b[0m\u001b[1;33m)\u001b[0m\u001b[1;33m\u001b[0m\u001b[1;33m\u001b[0m\u001b[0m\n\u001b[0m\u001b[0;32m      7\u001b[0m \u001b[1;33m\u001b[0m\u001b[0m\n\u001b[0;32m      8\u001b[0m \u001b[0meven\u001b[0m \u001b[1;33m=\u001b[0m \u001b[0mfilter\u001b[0m\u001b[1;33m(\u001b[0m\u001b[1;32mlambda\u001b[0m \u001b[0mn\u001b[0m\u001b[1;33m:\u001b[0m \u001b[0mn\u001b[0m \u001b[1;33m%\u001b[0m \u001b[1;36m2\u001b[0m \u001b[1;33m==\u001b[0m \u001b[1;36m0\u001b[0m\u001b[1;33m,\u001b[0m \u001b[0mdata\u001b[0m\u001b[1;33m)\u001b[0m\u001b[1;33m\u001b[0m\u001b[1;33m\u001b[0m\u001b[0m\n",
      "\u001b[1;31mTypeError\u001b[0m: 'list' object is not callable"
     ]
    }
   ],
   "source": [
    "from functools import reduce\n",
    "\n",
    "data = [1, 2, 3, 4, 5, 6]\n",
    "\n",
    "squared = map(lambda n: n*n, data)\n",
    "print(list(squared))\n",
    "\n",
    "even = filter(lambda n: n % 2 == 0, data)\n",
    "print(list(even))\n",
    "\n",
    "sum = reduce(lambda a, b: a+b, data)\n",
    "print(sum)"
   ]
  },
  {
   "cell_type": "markdown",
   "metadata": {},
   "source": [
    "# Type Hinting"
   ]
  },
  {
   "cell_type": "code",
   "execution_count": 42,
   "metadata": {},
   "outputs": [
    {
     "name": "stdout",
     "output_type": "stream",
     "text": [
      "hello world!\n"
     ]
    }
   ],
   "source": [
    "def create_hello(name: str) -> str:\n",
    "    hello: str = \"hello \" + name + \"!\"\n",
    "    return hello\n",
    "\n",
    "print(create_hello(\"world\"))"
   ]
  },
  {
   "cell_type": "markdown",
   "metadata": {},
   "source": [
    "## Type Hinting für zusammengesetzte Datenstrukturen"
   ]
  },
  {
   "cell_type": "code",
   "execution_count": 43,
   "metadata": {},
   "outputs": [],
   "source": [
    "names: list = [\"Guido\", \"Jukka\", \"Ivan\"]\n",
    "version: tuple = (3, 7, 1)\n",
    "options: dict = {\"centered\": False, \"capitalize\": True}"
   ]
  },
  {
   "cell_type": "code",
   "execution_count": 44,
   "metadata": {},
   "outputs": [],
   "source": [
    "from typing import Dict, List, Tuple\n",
    "\n",
    "names: List[str] = [\"Guido\", \"Jukka\", \"Ivan\"]\n",
    "version: Tuple[int, int, int] = (3, 7, 1)\n",
    "options: Dict[str, bool] = {\"centered\": False, \"capitalize\": True}    "
   ]
  },
  {
   "cell_type": "markdown",
   "metadata": {},
   "source": [
    "# String Formatierung"
   ]
  },
  {
   "cell_type": "code",
   "execution_count": 45,
   "metadata": {},
   "outputs": [
    {
     "name": "stdout",
     "output_type": "stream",
     "text": [
      "Name: Peter, Alter: 42\n"
     ]
    }
   ],
   "source": [
    "template = \"Name: {}, Alter: {}\"\n",
    "print(template.format(\"Peter\", 42)) "
   ]
  },
  {
   "cell_type": "code",
   "execution_count": 46,
   "metadata": {},
   "outputs": [
    {
     "name": "stdout",
     "output_type": "stream",
     "text": [
      "Kosten: €   159.99\n"
     ]
    }
   ],
   "source": [
    "res = \"Kosten: € {:> 8.2f}\".format(159.9868)\n",
    "print(res) "
   ]
  }
 ],
 "metadata": {
  "kernelspec": {
   "display_name": "Python 3",
   "language": "python",
   "name": "python3"
  },
  "language_info": {
   "codemirror_mode": {
    "name": "ipython",
    "version": 3
   },
   "file_extension": ".py",
   "mimetype": "text/x-python",
   "name": "python",
   "nbconvert_exporter": "python",
   "pygments_lexer": "ipython3",
   "version": "3.8.3"
  }
 },
 "nbformat": 4,
 "nbformat_minor": 4
}
